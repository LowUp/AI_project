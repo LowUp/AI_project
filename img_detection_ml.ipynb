{
 "cells": [
  {
   "cell_type": "markdown",
   "metadata": {},
   "source": [
    "# Real or AI generated images classifier model\n"
   ]
  },
  {
   "cell_type": "code",
   "execution_count": 1,
   "metadata": {},
   "outputs": [],
   "source": [
    "from img2vec_pytorch import Img2Vec\n",
    "from PIL import Image\n",
    "from arrow import now\n",
    "from glob import glob\n",
    "import pandas as pd\n",
    "import matplotlib.pyplot as plt\n",
    "from os.path import basename\n",
    "\n",
    "from zipfile import ZipFile"
   ]
  },
  {
   "cell_type": "code",
   "execution_count": 2,
   "metadata": {},
   "outputs": [],
   "source": [
    "# Unzip folder\n",
    "zip_object = ZipFile('datasets/dataset2.zip', 'r')\n",
    "zip_object.extractall()"
   ]
  },
  {
   "cell_type": "code",
   "execution_count": 3,
   "metadata": {},
   "outputs": [
    {
     "name": "stderr",
     "output_type": "stream",
     "text": [
      "/home/afrosenpai/AI_Work/School_work/AI_proj/lib/python3.10/site-packages/torchvision/models/_utils.py:208: UserWarning: The parameter 'pretrained' is deprecated since 0.13 and may be removed in the future, please use 'weights' instead.\n",
      "  warnings.warn(\n",
      "/home/afrosenpai/AI_Work/School_work/AI_proj/lib/python3.10/site-packages/torchvision/models/_utils.py:223: UserWarning: Arguments other than a weight enum or `None` for 'weights' are deprecated since 0.13 and may be removed in the future. The current behavior is equivalent to passing `weights=ResNet18_Weights.IMAGENET1K_V1`. You can also use `weights=ResNet18_Weights.DEFAULT` to get the most up-to-date weights.\n",
      "  warnings.warn(msg)\n"
     ]
    },
    {
     "name": "stdout",
     "output_type": "stream",
     "text": [
      "done encoding the AI images in 0:00:00.475188\n",
      "done in 0:00:00.756901\n"
     ]
    }
   ],
   "source": [
    "img2vec = Img2Vec(cuda=True, model='resnet-18', layer='default', layer_output_size=512)\n",
    "\n",
    "FOLDER_AI = 'train/FAKE/'\n",
    "FOLDER_REAL = 'train/REAL/'\n",
    "\n",
    "def img_to_array(tag: str, path: str = None) -> list:\n",
    "    result = []\n",
    "    _IMG_COUNT = 100\n",
    "    count = 1\n",
    "    for input_file in zip_object.namelist():\n",
    "        if input_file.startswith(path):\n",
    "            name = basename(input_file)\n",
    "            try:\n",
    "                with Image.open(fp=input_file, mode='r') as image:\n",
    "                    vector = img2vec.get_vec(image, tensor=True).numpy().reshape(512,)\n",
    "                    result.append(pd.Series(data=[tag, name, vector], index=['tag', 'name', 'value']))\n",
    "            except Exception as error:\n",
    "                print(\"Runtime Error : \", error)\n",
    "                # pass\n",
    "            if count >= _IMG_COUNT:\n",
    "                break # Stops processing images after 10 000 images processed. \n",
    "            count+= 1\n",
    "    zip_object.close()\n",
    "    return result\n",
    "\n",
    "time_start = now()\n",
    "ai = img_to_array(path=FOLDER_AI, tag='ai')\n",
    "print('done encoding the AI images in {}'.format(now() - time_start))\n",
    "real = img_to_array(path=FOLDER_REAL, tag='real')\n",
    "df = pd.DataFrame(data=ai + real)\n",
    "print('done in {}'.format(now() - time_start))"
   ]
  },
  {
   "cell_type": "code",
   "execution_count": 18,
   "metadata": {},
   "outputs": [
    {
     "name": "stdout",
     "output_type": "stream",
     "text": [
      "[1.59535408e-01 1.91485667e+00 6.37298584e-01 1.60491224e-02\n",
      " 3.18532646e-01 2.86332369e-01 9.44505334e-01 2.45361939e-01\n",
      " 1.77081767e-02 1.04688779e-01 4.60328646e-02 8.53524506e-02\n",
      " 1.46297002e+00 3.22256680e-03 1.60062420e+00 1.64124668e-01\n",
      " 5.20655036e-01 2.87958086e-01 1.28063118e+00 8.31714094e-01\n",
      " 8.23085248e-01 1.45610785e+00 3.47479641e-01 5.42176783e-01\n",
      " 5.89289606e-01 9.32112396e-01 5.22928238e-01 5.22062659e-01\n",
      " 3.26528937e-01 2.68656969e-01 1.87660086e+00 3.58307101e-02\n",
      " 1.39479029e+00 6.77964509e-01 2.30005503e+00 3.37667018e-01\n",
      " 3.96393657e-01 3.83566320e-01 2.36352786e-01 6.73718750e-01\n",
      " 1.36490095e+00 6.40112013e-02 2.81494141e-01 1.60043085e+00\n",
      " 5.52623197e-02 3.79444927e-01 1.91947266e-01 1.30399525e-01\n",
      " 9.15701268e-04 1.69402957e-01 2.22665596e+00 1.25923142e-01\n",
      " 4.76520300e-01 1.84502256e+00 0.00000000e+00 1.73067677e+00\n",
      " 3.25151891e-01 2.27446929e-01 4.52841073e-01 3.68528254e-02\n",
      " 6.02794349e-01 1.53598678e+00 3.00952315e-01 6.73864007e-01\n",
      " 2.07238756e-02 4.48840410e-01 9.79039446e-03 2.49752212e+00\n",
      " 0.00000000e+00 6.26516521e-01 5.09911973e-04 1.54595077e+00\n",
      " 1.02993798e+00 1.76535332e+00 0.00000000e+00 1.15434349e+00\n",
      " 0.00000000e+00 4.99529302e-01 0.00000000e+00 1.72440082e-01\n",
      " 7.42293298e-02 1.34214735e+00 5.27965248e-01 5.25323562e-02\n",
      " 5.21864772e-01 1.08854389e+00 1.47092521e-01 2.02674556e+00\n",
      " 2.34458232e+00 5.15809059e-02 6.03082478e-01 6.49413187e-03\n",
      " 7.27739513e-01 6.28373981e-01 3.01480889e-01 2.06174299e-01\n",
      " 6.62002087e-01 0.00000000e+00 7.70440042e-01 1.87718362e-01\n",
      " 9.40100998e-02 5.31485617e-01 9.94444266e-02 2.20081896e-01\n",
      " 1.00609529e+00 1.74063540e+00 5.75637758e-01 3.95996213e-01\n",
      " 3.68124694e-02 9.44100678e-01 8.59372497e-01 2.63848972e+00\n",
      " 7.68644094e-01 1.11025885e-01 1.97485000e-01 2.31831694e+00\n",
      " 1.62075400e+00 1.66555901e+01 4.14045095e-01 1.82840455e+00\n",
      " 3.99413675e-01 1.06362104e+00 2.07857043e-01 3.33425313e-01\n",
      " 4.78007495e-01 1.35466736e-02 5.40149748e-01 9.12141025e-01\n",
      " 1.58309832e-01 3.22120577e-01 5.31689167e-01 1.13458894e-01\n",
      " 2.02678055e-01 4.45674002e-01 3.90098281e-02 2.02464199e+00\n",
      " 1.66120097e-01 3.41043733e-02 9.23123837e-01 7.19500482e-02\n",
      " 1.00729072e+00 1.02405405e+00 1.30632877e+00 1.99667847e+00\n",
      " 1.01367104e+00 1.32028479e-02 5.44416308e-01 7.82109380e-01\n",
      " 3.99948359e-01 6.18439503e-02 9.72617641e-02 2.20519140e-01\n",
      " 2.19472498e-01 5.46297282e-02 2.40254612e-03 5.54828584e-01\n",
      " 2.59437990e+00 1.45564795e-01 4.99926582e-02 3.56719494e-01\n",
      " 3.20221812e-01 4.57179457e-01 3.49384040e-01 5.84753275e+00\n",
      " 4.49833691e-01 1.34011889e+00 7.20867962e-02 1.98573589e-01\n",
      " 5.92680462e-03 0.00000000e+00 0.00000000e+00 1.26191124e-01\n",
      " 1.32562470e+00 2.70174241e+00 6.27442837e-01 4.40672934e-02\n",
      " 4.13100034e-01 1.36880904e-01 2.78968327e-02 5.79245612e-02\n",
      " 1.21215701e+00 1.54506171e+00 2.49022102e+00 1.03374755e+00\n",
      " 6.05065227e-01 2.45178670e-01 1.82969436e-01 1.23269252e-01\n",
      " 9.80668981e-03 1.34927519e-02 1.93047535e+00 5.37341654e-01\n",
      " 2.96220016e-02 8.96184802e-01 4.22173589e-01 2.01654192e-02\n",
      " 3.48806242e-03 3.73010010e-01 3.15378249e-01 2.24361491e+00\n",
      " 9.11130905e-02 5.98017871e-02 5.04440427e-01 8.92211914e-01\n",
      " 1.35653937e+00 5.54910362e-01 5.14188826e-01 5.01198709e-01\n",
      " 3.00127268e-03 5.99987730e-02 6.31986111e-02 1.35176077e-01\n",
      " 1.02289200e+00 3.69669020e-01 3.55167910e-02 1.38475362e-03\n",
      " 1.07869828e+00 8.31914604e-01 8.49131405e-01 1.18966259e-01\n",
      " 4.68116641e-01 1.10207766e-01 1.89504039e+00 6.22927070e-01\n",
      " 9.19604838e-01 1.35203087e+00 2.40924311e+00 6.28206730e-01\n",
      " 9.20764729e-02 1.58079278e+00 6.68051541e-01 3.95626396e-01\n",
      " 1.12729955e+00 3.79731483e-03 2.35066628e+00 2.22252861e-01\n",
      " 1.28608391e-01 5.97432911e-01 1.86779529e-01 1.17807336e-01\n",
      " 9.49755907e-01 5.29628694e-01 5.41093647e-01 1.25768915e-01\n",
      " 3.85323465e-02 1.76024243e-01 2.19119668e+00 2.81381398e-01\n",
      " 2.06948146e-01 1.78284660e-01 2.60016394e+00 2.69790124e-02\n",
      " 7.30452910e-02 3.55968118e-01 1.49552301e-01 1.04569483e+00\n",
      " 1.61150604e-01 9.62120056e-01 5.88000178e-01 2.16665026e-02\n",
      " 5.55835724e-01 1.99097145e+00 4.84540731e-01 1.47996441e-01\n",
      " 6.65499151e-01 2.95877963e-01 1.03015578e+00 8.56758893e-01\n",
      " 2.42605492e-01 1.14822614e+00 1.10931313e+00 1.18734557e-02\n",
      " 2.98472613e-01 2.40831286e-01 5.60048521e-01 1.99687734e-01\n",
      " 7.63514936e-02 7.00229526e-01 1.07727671e+00 2.90197551e-01\n",
      " 1.25544477e+00 1.36395288e+00 3.49368405e+00 1.17911562e-01\n",
      " 2.08982968e+00 9.10702050e-01 1.58768520e-02 1.56213737e+00\n",
      " 2.73489928e+00 1.84765279e-01 9.25587237e-01 7.52239108e-01\n",
      " 3.53939319e+00 1.81696191e-01 8.68560001e-02 5.17412871e-02\n",
      " 1.32551694e+00 1.74052835e-01 5.74008785e-02 3.47373486e-01\n",
      " 2.62447143e+00 1.01654732e+00 3.28349519e+00 4.00657594e-01\n",
      " 1.02547669e+00 8.47739875e-02 4.02857006e-01 2.58643597e-01\n",
      " 1.50924695e+00 1.00831576e-01 8.22505713e-01 1.77934992e+00\n",
      " 1.79975688e-01 8.58402312e-01 4.22177138e-03 2.19855219e-01\n",
      " 1.79535583e-01 2.99029797e-01 1.13750732e+00 1.66538131e+00\n",
      " 3.71963531e-02 2.04923183e-01 4.58210818e-02 3.56890678e-01\n",
      " 5.78664541e-01 8.32534552e-01 3.06447208e-01 2.88343281e-01\n",
      " 4.42953438e-01 9.21576977e-01 7.82345593e-01 1.04268444e+00\n",
      " 5.90172084e-03 1.31666589e+00 1.27237523e+00 2.05887389e+00\n",
      " 4.61147338e-01 1.60367632e+00 0.00000000e+00 5.50484419e-01\n",
      " 1.47644952e-01 1.81227934e+00 1.59776077e-01 1.04631984e+00\n",
      " 2.71049976e-01 2.64014434e-02 4.29615080e-01 1.89891922e+00\n",
      " 9.52028155e-01 2.32764333e-01 7.73118809e-02 4.92901921e-01\n",
      " 2.12868190e+00 1.32221490e-01 2.03256048e-02 2.62578130e-01\n",
      " 9.01573300e-02 4.54087615e-01 1.34565389e+00 4.06655937e-01\n",
      " 2.52726525e-01 6.33203506e-01 7.89845526e-01 1.48220944e+00\n",
      " 1.91829205e-01 8.52370709e-02 3.26245993e-01 1.15457761e+00\n",
      " 6.17774248e-01 6.54682964e-02 8.32656682e-01 3.04550409e+00\n",
      " 1.84869027e+00 7.63421178e-01 9.29208159e-01 1.54665589e+00\n",
      " 1.86159596e-01 1.44484329e+00 3.57227713e-01 8.67546082e-01\n",
      " 3.39979577e+00 1.27970070e-01 2.28988901e-02 1.20673561e+00\n",
      " 1.08188458e-01 2.30294894e-02 2.41381121e+00 1.03848565e+00\n",
      " 1.40119702e-01 5.97873211e-01 1.74123204e+00 2.48286176e+00\n",
      " 1.27070211e-02 4.15589035e-01 1.20115340e-01 3.67769152e-01\n",
      " 1.23195469e-01 1.35966524e-01 4.88890827e-01 2.55647134e-02\n",
      " 1.44017684e+00 3.10823113e-01 6.47321820e-01 1.15720940e+00\n",
      " 6.59325242e-01 4.13760245e-01 1.18811764e-01 1.08174443e+00\n",
      " 6.84151724e-02 9.41255912e-02 2.93722361e-01 1.90306887e-01\n",
      " 1.70278266e-01 8.69703710e-01 9.35367465e-01 3.44402969e-01\n",
      " 3.59662203e-03 9.16370451e-01 6.62779868e-01 6.22929595e-02\n",
      " 1.50066936e+00 1.52930140e+00 6.23902261e-01 2.32795235e-02\n",
      " 4.50634050e+00 3.23341322e+00 1.08767815e-01 8.57470274e-01\n",
      " 8.29012334e-01 6.31647289e-01 1.09526031e-01 6.99815631e-01\n",
      " 1.73767924e+00 7.52765238e-01 3.44290346e-01 5.92739403e-01\n",
      " 4.38079268e-01 2.04967999e+00 1.28484532e-01 3.68897259e-01\n",
      " 2.49737883e+00 1.10280462e-01 8.88850540e-02 1.53579161e-01\n",
      " 3.28341546e-03 1.35294259e+00 1.14470907e-01 6.42598689e-01\n",
      " 0.00000000e+00 5.49529731e-01 1.21265933e-01 8.80336165e-02\n",
      " 1.64788842e-01 7.95984685e-01 3.06315660e-01 1.43625903e+00\n",
      " 2.23857343e-01 3.55102062e-01 5.27192429e-02 7.62578726e-01\n",
      " 5.99056363e-01 1.07468355e+00 9.70390975e-01 6.31286979e-01\n",
      " 5.00976026e-01 8.21317077e-01 7.71795154e-01 3.46250385e-02\n",
      " 3.08258951e-01 2.43148021e-02 5.44075787e-01 1.86454976e+00\n",
      " 1.24112487e+00 5.36143243e-01 1.57294822e+00 5.13902009e-01\n",
      " 3.34312201e-01 0.00000000e+00 1.39718723e+00 5.70291638e-01\n",
      " 1.34492242e+00 4.08466876e-01 5.97303212e-01 2.28933597e+00\n",
      " 7.18464255e-01 2.15613890e+00 4.96602416e-01 1.13338494e+00\n",
      " 6.80816770e-02 6.20385213e-03 1.09476708e-01 7.61185288e-01\n",
      " 0.00000000e+00 1.41524702e-01 1.91823626e+00 5.27139381e-02\n",
      " 3.36794049e-01 8.55752409e-01 9.09850076e-02 6.17590427e-01\n",
      " 6.74105346e-01 2.76530504e-01 5.57545006e-01 4.32919383e-01\n",
      " 2.48748079e-01 5.70663333e-01 3.16775939e-03 2.24964097e-01\n",
      " 1.94214582e-01 4.04186845e-02 7.64888048e-01 7.66784709e-04]\n"
     ]
    }
   ],
   "source": [
    "# df.head()\n",
    "print(df.value[0])"
   ]
  },
  {
   "cell_type": "code",
   "execution_count": 11,
   "metadata": {},
   "outputs": [
    {
     "name": "stdout",
     "output_type": "stream",
     "text": [
      "<class 'pandas.core.frame.DataFrame'>\n",
      "RangeIndex: 200 entries, 0 to 199\n",
      "Data columns (total 3 columns):\n",
      " #   Column  Non-Null Count  Dtype \n",
      "---  ------  --------------  ----- \n",
      " 0   tag     200 non-null    object\n",
      " 1   name    200 non-null    object\n",
      " 2   value   200 non-null    object\n",
      "dtypes: object(3)\n",
      "memory usage: 4.8+ KB\n"
     ]
    }
   ],
   "source": [
    "df.info()"
   ]
  },
  {
   "cell_type": "code",
   "execution_count": 8,
   "metadata": {},
   "outputs": [
    {
     "data": {
      "text/plain": [
       "(200, 3)"
      ]
     },
     "execution_count": 8,
     "metadata": {},
     "output_type": "execute_result"
    }
   ],
   "source": [
    "df.shape"
   ]
  },
  {
   "cell_type": "code",
   "execution_count": 36,
   "metadata": {},
   "outputs": [
    {
     "name": "stdout",
     "output_type": "stream",
     "text": [
      "Index(['tag', 'name', 'value'], dtype='object')\n"
     ]
    }
   ],
   "source": [
    "data_columns = df.columns\n",
    "print(data_columns)\n",
    "# df.head()"
   ]
  },
  {
   "cell_type": "code",
   "execution_count": 37,
   "metadata": {},
   "outputs": [],
   "source": [
    "for column in data_columns:\n",
    "    if column != 'value':\n",
    "        df[column] = df[column].str.strip()"
   ]
  },
  {
   "cell_type": "code",
   "execution_count": 38,
   "metadata": {},
   "outputs": [
    {
     "data": {
      "text/html": [
       "<div>\n",
       "<style scoped>\n",
       "    .dataframe tbody tr th:only-of-type {\n",
       "        vertical-align: middle;\n",
       "    }\n",
       "\n",
       "    .dataframe tbody tr th {\n",
       "        vertical-align: top;\n",
       "    }\n",
       "\n",
       "    .dataframe thead th {\n",
       "        text-align: right;\n",
       "    }\n",
       "</style>\n",
       "<table border=\"1\" class=\"dataframe\">\n",
       "  <thead>\n",
       "    <tr style=\"text-align: right;\">\n",
       "      <th></th>\n",
       "      <th>tag</th>\n",
       "      <th>name</th>\n",
       "      <th>value</th>\n",
       "    </tr>\n",
       "  </thead>\n",
       "  <tbody>\n",
       "    <tr>\n",
       "      <th>0</th>\n",
       "      <td>ai</td>\n",
       "      <td>1000 (10).jpg</td>\n",
       "      <td>[0.15953541, 1.9148567, 0.6372986, 0.016049122...</td>\n",
       "    </tr>\n",
       "    <tr>\n",
       "      <th>1</th>\n",
       "      <td>ai</td>\n",
       "      <td>1000 (2).jpg</td>\n",
       "      <td>[0.14412837, 0.27126953, 0.5012313, 0.22757447...</td>\n",
       "    </tr>\n",
       "    <tr>\n",
       "      <th>2</th>\n",
       "      <td>ai</td>\n",
       "      <td>1000 (3).jpg</td>\n",
       "      <td>[0.8852316, 0.03856516, 0.70647436, 0.7004094,...</td>\n",
       "    </tr>\n",
       "    <tr>\n",
       "      <th>3</th>\n",
       "      <td>ai</td>\n",
       "      <td>1000 (4).jpg</td>\n",
       "      <td>[0.43705535, 0.38578257, 0.3709294, 0.3298432,...</td>\n",
       "    </tr>\n",
       "    <tr>\n",
       "      <th>4</th>\n",
       "      <td>ai</td>\n",
       "      <td>1000 (5).jpg</td>\n",
       "      <td>[0.023255296, 0.343142, 2.1546018, 1.9247802, ...</td>\n",
       "    </tr>\n",
       "  </tbody>\n",
       "</table>\n",
       "</div>"
      ],
      "text/plain": [
       "  tag           name                                              value\n",
       "0  ai  1000 (10).jpg  [0.15953541, 1.9148567, 0.6372986, 0.016049122...\n",
       "1  ai   1000 (2).jpg  [0.14412837, 0.27126953, 0.5012313, 0.22757447...\n",
       "2  ai   1000 (3).jpg  [0.8852316, 0.03856516, 0.70647436, 0.7004094,...\n",
       "3  ai   1000 (4).jpg  [0.43705535, 0.38578257, 0.3709294, 0.3298432,...\n",
       "4  ai   1000 (5).jpg  [0.023255296, 0.343142, 2.1546018, 1.9247802, ..."
      ]
     },
     "execution_count": 38,
     "metadata": {},
     "output_type": "execute_result"
    }
   ],
   "source": [
    "df.head()"
   ]
  },
  {
   "cell_type": "code",
   "execution_count": null,
   "metadata": {},
   "outputs": [],
   "source": [
    "# test = []\n",
    "# for column in dataColumns:\n",
    "#     test.append() df[column].value_counts()\n",
    "# # groupedColumns = df.groupby(dataColumns)"
   ]
  },
  {
   "cell_type": "code",
   "execution_count": null,
   "metadata": {},
   "outputs": [
    {
     "data": {
      "text/html": [
       "<div>\n",
       "<style scoped>\n",
       "    .dataframe tbody tr th:only-of-type {\n",
       "        vertical-align: middle;\n",
       "    }\n",
       "\n",
       "    .dataframe tbody tr th {\n",
       "        vertical-align: top;\n",
       "    }\n",
       "\n",
       "    .dataframe thead th {\n",
       "        text-align: right;\n",
       "    }\n",
       "</style>\n",
       "<table border=\"1\" class=\"dataframe\">\n",
       "  <thead>\n",
       "    <tr style=\"text-align: right;\">\n",
       "      <th></th>\n",
       "      <th>tag</th>\n",
       "      <th>name</th>\n",
       "      <th>value</th>\n",
       "    </tr>\n",
       "  </thead>\n",
       "  <tbody>\n",
       "    <tr>\n",
       "      <th>count</th>\n",
       "      <td>200</td>\n",
       "      <td>200</td>\n",
       "      <td>200</td>\n",
       "    </tr>\n",
       "    <tr>\n",
       "      <th>unique</th>\n",
       "      <td>2</td>\n",
       "      <td>200</td>\n",
       "      <td>200</td>\n",
       "    </tr>\n",
       "    <tr>\n",
       "      <th>top</th>\n",
       "      <td>ai</td>\n",
       "      <td>1000 (10).jpg</td>\n",
       "      <td>[0.15953541, 1.9148567, 0.6372986, 0.016049122...</td>\n",
       "    </tr>\n",
       "    <tr>\n",
       "      <th>freq</th>\n",
       "      <td>100</td>\n",
       "      <td>1</td>\n",
       "      <td>1</td>\n",
       "    </tr>\n",
       "  </tbody>\n",
       "</table>\n",
       "</div>"
      ],
      "text/plain": [
       "        tag           name                                              value\n",
       "count   200            200                                                200\n",
       "unique    2            200                                                200\n",
       "top      ai  1000 (10).jpg  [0.15953541, 1.9148567, 0.6372986, 0.016049122...\n",
       "freq    100              1                                                  1"
      ]
     },
     "execution_count": 22,
     "metadata": {},
     "output_type": "execute_result"
    }
   ],
   "source": [
    "df.describe()"
   ]
  },
  {
   "cell_type": "code",
   "execution_count": null,
   "metadata": {},
   "outputs": [
    {
     "data": {
      "text/plain": [
       "<Figure size 1000x1000 with 0 Axes>"
      ]
     },
     "execution_count": 119,
     "metadata": {},
     "output_type": "execute_result"
    },
    {
     "data": {
      "text/plain": [
       "<Figure size 1000x1000 with 0 Axes>"
      ]
     },
     "metadata": {},
     "output_type": "display_data"
    }
   ],
   "source": [
    "# Heat map\n",
    "plt.figure(figsize=[10,10])\n",
    "\n",
    "ct_counts = df.groupby()"
   ]
  },
  {
   "cell_type": "markdown",
   "metadata": {},
   "source": [
    "### Next task\n",
    "- Check if the pictures extensions are the same"
   ]
  }
 ],
 "metadata": {
  "kernelspec": {
   "display_name": "AI_proj",
   "language": "python",
   "name": "python3"
  },
  "language_info": {
   "codemirror_mode": {
    "name": "ipython",
    "version": 3
   },
   "file_extension": ".py",
   "mimetype": "text/x-python",
   "name": "python",
   "nbconvert_exporter": "python",
   "pygments_lexer": "ipython3",
   "version": "3.10.12"
  }
 },
 "nbformat": 4,
 "nbformat_minor": 2
}
