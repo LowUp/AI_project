{
 "cells": [
  {
   "cell_type": "markdown",
   "metadata": {},
   "source": [
    "# Real or AI generated images classifier model\n"
   ]
  },
  {
   "cell_type": "code",
   "execution_count": 39,
   "metadata": {},
   "outputs": [],
   "source": [
    "from img2vec_pytorch import Img2Vec\n",
    "from PIL import Image\n",
    "from arrow import now\n",
    "from glob import glob\n",
    "import pandas as pd\n",
    "import matplotlib.pyplot as plt\n",
    "from os.path import basename\n",
    "\n",
    "from zipfile import ZipFile"
   ]
  },
  {
   "cell_type": "code",
   "execution_count": 32,
   "metadata": {},
   "outputs": [
    {
     "name": "stderr",
     "output_type": "stream",
     "text": [
      "/home/afrosenpai/AI_Work/School_work/AI_proj/lib/python3.10/site-packages/torchvision/models/_utils.py:208: UserWarning: The parameter 'pretrained' is deprecated since 0.13 and may be removed in the future, please use 'weights' instead.\n",
      "  warnings.warn(\n",
      "/home/afrosenpai/AI_Work/School_work/AI_proj/lib/python3.10/site-packages/torchvision/models/_utils.py:223: UserWarning: Arguments other than a weight enum or `None` for 'weights' are deprecated since 0.13 and may be removed in the future. The current behavior is equivalent to passing `weights=ResNet18_Weights.IMAGENET1K_V1`. You can also use `weights=ResNet18_Weights.DEFAULT` to get the most up-to-date weights.\n",
      "  warnings.warn(msg)\n"
     ]
    },
    {
     "name": "stdout",
     "output_type": "stream",
     "text": [
      "done encoding the AI images in 0:00:09.314780\n",
      "done in 0:00:18.429971\n"
     ]
    }
   ],
   "source": [
    "img2vec = Img2Vec(cuda=True, model='resnet-18', layer='default', layer_output_size=512)\n",
    "\n",
    "FOLDER_AI = 'train/FAKE/'\n",
    "FOLDER_REAL = 'train/REAL/'\n",
    "\n",
    "def img_to_array(tag: str, zipped_folder: str = None) -> list:\n",
    "    result = []\n",
    "    _IMG_COUNT = 100\n",
    "    count = 1\n",
    "    zip_object = ZipFile('datasets/dataset2.zip', 'r')\n",
    "    zip_object.extractall()\n",
    "    # zip_object.extract(zipped_folder, path='./datasets')\n",
    "    for input_file in zip_object.namelist():\n",
    "        if input_file.startswith(zipped_folder):\n",
    "            name = basename(input_file)\n",
    "            try:\n",
    "                with Image.open(fp=input_file, mode='r') as image:\n",
    "                    vector = img2vec.get_vec(image, tensor=True).numpy().reshape(512,)\n",
    "                    result.append(pd.Series(data=[tag, name, vector], index=['tag', 'name', 'value']))\n",
    "            except Exception as error:\n",
    "                print(\"Runtime Error : \", error)\n",
    "                # pass\n",
    "            if count >= _IMG_COUNT:\n",
    "                break # Stops processing images after 10 000 images processed. \n",
    "            count += 1\n",
    "    zip_object.close()\n",
    "    return result\n",
    "\n",
    "time_start = now()\n",
    "ai = img_to_array(zipped_folder=FOLDER_AI, tag='ai')\n",
    "print('done encoding the AI images in {}'.format(now() - time_start))\n",
    "real = img_to_array(zipped_folder=FOLDER_REAL, tag='real')\n",
    "df = pd.DataFrame(data=ai + real)\n",
    "print('done in {}'.format(now() - time_start))"
   ]
  },
  {
   "cell_type": "code",
   "execution_count": 33,
   "metadata": {},
   "outputs": [
    {
     "data": {
      "text/html": [
       "<div>\n",
       "<style scoped>\n",
       "    .dataframe tbody tr th:only-of-type {\n",
       "        vertical-align: middle;\n",
       "    }\n",
       "\n",
       "    .dataframe tbody tr th {\n",
       "        vertical-align: top;\n",
       "    }\n",
       "\n",
       "    .dataframe thead th {\n",
       "        text-align: right;\n",
       "    }\n",
       "</style>\n",
       "<table border=\"1\" class=\"dataframe\">\n",
       "  <thead>\n",
       "    <tr style=\"text-align: right;\">\n",
       "      <th></th>\n",
       "      <th>tag</th>\n",
       "      <th>name</th>\n",
       "      <th>value</th>\n",
       "    </tr>\n",
       "  </thead>\n",
       "  <tbody>\n",
       "    <tr>\n",
       "      <th>0</th>\n",
       "      <td>ai</td>\n",
       "      <td>1000 (10).jpg</td>\n",
       "      <td>[0.15953541, 1.9148567, 0.6372986, 0.016049122...</td>\n",
       "    </tr>\n",
       "    <tr>\n",
       "      <th>1</th>\n",
       "      <td>ai</td>\n",
       "      <td>1000 (2).jpg</td>\n",
       "      <td>[0.14412837, 0.27126953, 0.5012313, 0.22757447...</td>\n",
       "    </tr>\n",
       "    <tr>\n",
       "      <th>2</th>\n",
       "      <td>ai</td>\n",
       "      <td>1000 (3).jpg</td>\n",
       "      <td>[0.8852316, 0.03856516, 0.70647436, 0.7004094,...</td>\n",
       "    </tr>\n",
       "    <tr>\n",
       "      <th>3</th>\n",
       "      <td>ai</td>\n",
       "      <td>1000 (4).jpg</td>\n",
       "      <td>[0.43705535, 0.38578257, 0.3709294, 0.3298432,...</td>\n",
       "    </tr>\n",
       "    <tr>\n",
       "      <th>4</th>\n",
       "      <td>ai</td>\n",
       "      <td>1000 (5).jpg</td>\n",
       "      <td>[0.023255296, 0.343142, 2.1546018, 1.9247802, ...</td>\n",
       "    </tr>\n",
       "  </tbody>\n",
       "</table>\n",
       "</div>"
      ],
      "text/plain": [
       "  tag           name                                              value\n",
       "0  ai  1000 (10).jpg  [0.15953541, 1.9148567, 0.6372986, 0.016049122...\n",
       "1  ai   1000 (2).jpg  [0.14412837, 0.27126953, 0.5012313, 0.22757447...\n",
       "2  ai   1000 (3).jpg  [0.8852316, 0.03856516, 0.70647436, 0.7004094,...\n",
       "3  ai   1000 (4).jpg  [0.43705535, 0.38578257, 0.3709294, 0.3298432,...\n",
       "4  ai   1000 (5).jpg  [0.023255296, 0.343142, 2.1546018, 1.9247802, ..."
      ]
     },
     "execution_count": 33,
     "metadata": {},
     "output_type": "execute_result"
    }
   ],
   "source": [
    "df.head()"
   ]
  },
  {
   "cell_type": "code",
   "execution_count": 34,
   "metadata": {},
   "outputs": [
    {
     "name": "stdout",
     "output_type": "stream",
     "text": [
      "<class 'pandas.core.frame.DataFrame'>\n",
      "RangeIndex: 200 entries, 0 to 199\n",
      "Data columns (total 3 columns):\n",
      " #   Column  Non-Null Count  Dtype \n",
      "---  ------  --------------  ----- \n",
      " 0   tag     200 non-null    object\n",
      " 1   name    200 non-null    object\n",
      " 2   value   200 non-null    object\n",
      "dtypes: object(3)\n",
      "memory usage: 4.8+ KB\n"
     ]
    }
   ],
   "source": [
    "df.info()"
   ]
  },
  {
   "cell_type": "code",
   "execution_count": 35,
   "metadata": {},
   "outputs": [
    {
     "data": {
      "text/plain": [
       "(200, 3)"
      ]
     },
     "execution_count": 35,
     "metadata": {},
     "output_type": "execute_result"
    }
   ],
   "source": [
    "df.shape"
   ]
  },
  {
   "cell_type": "code",
   "execution_count": 36,
   "metadata": {},
   "outputs": [
    {
     "name": "stdout",
     "output_type": "stream",
     "text": [
      "Index(['tag', 'name', 'value'], dtype='object')\n"
     ]
    }
   ],
   "source": [
    "data_columns = df.columns\n",
    "print(data_columns)\n",
    "# df.head()"
   ]
  },
  {
   "cell_type": "code",
   "execution_count": 37,
   "metadata": {},
   "outputs": [],
   "source": [
    "for column in data_columns:\n",
    "    if column != 'value':\n",
    "        df[column] = df[column].str.strip()"
   ]
  },
  {
   "cell_type": "code",
   "execution_count": 38,
   "metadata": {},
   "outputs": [
    {
     "data": {
      "text/html": [
       "<div>\n",
       "<style scoped>\n",
       "    .dataframe tbody tr th:only-of-type {\n",
       "        vertical-align: middle;\n",
       "    }\n",
       "\n",
       "    .dataframe tbody tr th {\n",
       "        vertical-align: top;\n",
       "    }\n",
       "\n",
       "    .dataframe thead th {\n",
       "        text-align: right;\n",
       "    }\n",
       "</style>\n",
       "<table border=\"1\" class=\"dataframe\">\n",
       "  <thead>\n",
       "    <tr style=\"text-align: right;\">\n",
       "      <th></th>\n",
       "      <th>tag</th>\n",
       "      <th>name</th>\n",
       "      <th>value</th>\n",
       "    </tr>\n",
       "  </thead>\n",
       "  <tbody>\n",
       "    <tr>\n",
       "      <th>0</th>\n",
       "      <td>ai</td>\n",
       "      <td>1000 (10).jpg</td>\n",
       "      <td>[0.15953541, 1.9148567, 0.6372986, 0.016049122...</td>\n",
       "    </tr>\n",
       "    <tr>\n",
       "      <th>1</th>\n",
       "      <td>ai</td>\n",
       "      <td>1000 (2).jpg</td>\n",
       "      <td>[0.14412837, 0.27126953, 0.5012313, 0.22757447...</td>\n",
       "    </tr>\n",
       "    <tr>\n",
       "      <th>2</th>\n",
       "      <td>ai</td>\n",
       "      <td>1000 (3).jpg</td>\n",
       "      <td>[0.8852316, 0.03856516, 0.70647436, 0.7004094,...</td>\n",
       "    </tr>\n",
       "    <tr>\n",
       "      <th>3</th>\n",
       "      <td>ai</td>\n",
       "      <td>1000 (4).jpg</td>\n",
       "      <td>[0.43705535, 0.38578257, 0.3709294, 0.3298432,...</td>\n",
       "    </tr>\n",
       "    <tr>\n",
       "      <th>4</th>\n",
       "      <td>ai</td>\n",
       "      <td>1000 (5).jpg</td>\n",
       "      <td>[0.023255296, 0.343142, 2.1546018, 1.9247802, ...</td>\n",
       "    </tr>\n",
       "  </tbody>\n",
       "</table>\n",
       "</div>"
      ],
      "text/plain": [
       "  tag           name                                              value\n",
       "0  ai  1000 (10).jpg  [0.15953541, 1.9148567, 0.6372986, 0.016049122...\n",
       "1  ai   1000 (2).jpg  [0.14412837, 0.27126953, 0.5012313, 0.22757447...\n",
       "2  ai   1000 (3).jpg  [0.8852316, 0.03856516, 0.70647436, 0.7004094,...\n",
       "3  ai   1000 (4).jpg  [0.43705535, 0.38578257, 0.3709294, 0.3298432,...\n",
       "4  ai   1000 (5).jpg  [0.023255296, 0.343142, 2.1546018, 1.9247802, ..."
      ]
     },
     "execution_count": 38,
     "metadata": {},
     "output_type": "execute_result"
    }
   ],
   "source": [
    "df.head()"
   ]
  },
  {
   "cell_type": "code",
   "execution_count": null,
   "metadata": {},
   "outputs": [],
   "source": [
    "# test = []\n",
    "# for column in dataColumns:\n",
    "#     test.append() df[column].value_counts()\n",
    "# # groupedColumns = df.groupby(dataColumns)"
   ]
  },
  {
   "cell_type": "code",
   "execution_count": null,
   "metadata": {},
   "outputs": [
    {
     "data": {
      "text/html": [
       "<div>\n",
       "<style scoped>\n",
       "    .dataframe tbody tr th:only-of-type {\n",
       "        vertical-align: middle;\n",
       "    }\n",
       "\n",
       "    .dataframe tbody tr th {\n",
       "        vertical-align: top;\n",
       "    }\n",
       "\n",
       "    .dataframe thead th {\n",
       "        text-align: right;\n",
       "    }\n",
       "</style>\n",
       "<table border=\"1\" class=\"dataframe\">\n",
       "  <thead>\n",
       "    <tr style=\"text-align: right;\">\n",
       "      <th></th>\n",
       "      <th>tag</th>\n",
       "      <th>name</th>\n",
       "      <th>value</th>\n",
       "    </tr>\n",
       "  </thead>\n",
       "  <tbody>\n",
       "    <tr>\n",
       "      <th>count</th>\n",
       "      <td>200</td>\n",
       "      <td>200</td>\n",
       "      <td>200</td>\n",
       "    </tr>\n",
       "    <tr>\n",
       "      <th>unique</th>\n",
       "      <td>2</td>\n",
       "      <td>200</td>\n",
       "      <td>200</td>\n",
       "    </tr>\n",
       "    <tr>\n",
       "      <th>top</th>\n",
       "      <td>ai</td>\n",
       "      <td>1000 (10).jpg</td>\n",
       "      <td>[0.15953541, 1.9148567, 0.6372986, 0.016049122...</td>\n",
       "    </tr>\n",
       "    <tr>\n",
       "      <th>freq</th>\n",
       "      <td>100</td>\n",
       "      <td>1</td>\n",
       "      <td>1</td>\n",
       "    </tr>\n",
       "  </tbody>\n",
       "</table>\n",
       "</div>"
      ],
      "text/plain": [
       "        tag           name                                              value\n",
       "count   200            200                                                200\n",
       "unique    2            200                                                200\n",
       "top      ai  1000 (10).jpg  [0.15953541, 1.9148567, 0.6372986, 0.016049122...\n",
       "freq    100              1                                                  1"
      ]
     },
     "execution_count": 22,
     "metadata": {},
     "output_type": "execute_result"
    }
   ],
   "source": [
    "df.describe()"
   ]
  },
  {
   "cell_type": "code",
   "execution_count": null,
   "metadata": {},
   "outputs": [
    {
     "data": {
      "text/plain": [
       "<Figure size 1000x1000 with 0 Axes>"
      ]
     },
     "execution_count": 119,
     "metadata": {},
     "output_type": "execute_result"
    },
    {
     "data": {
      "text/plain": [
       "<Figure size 1000x1000 with 0 Axes>"
      ]
     },
     "metadata": {},
     "output_type": "display_data"
    }
   ],
   "source": [
    "# Heat map\n",
    "plt.figure(figsize=[10,10])\n",
    "\n",
    "ct_counts = df.groupby()"
   ]
  },
  {
   "cell_type": "markdown",
   "metadata": {},
   "source": [
    "### Next task\n",
    "- Check if the pictures extensions are the same"
   ]
  }
 ],
 "metadata": {
  "kernelspec": {
   "display_name": "AI_proj",
   "language": "python",
   "name": "python3"
  },
  "language_info": {
   "codemirror_mode": {
    "name": "ipython",
    "version": 3
   },
   "file_extension": ".py",
   "mimetype": "text/x-python",
   "name": "python",
   "nbconvert_exporter": "python",
   "pygments_lexer": "ipython3",
   "version": "3.10.12"
  }
 },
 "nbformat": 4,
 "nbformat_minor": 2
}
