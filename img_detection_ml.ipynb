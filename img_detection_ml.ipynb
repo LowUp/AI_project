{
 "cells": [
  {
   "cell_type": "markdown",
   "metadata": {},
   "source": [
    "# Real or AI generated images classifier model\n"
   ]
  },
  {
   "cell_type": "code",
   "execution_count": 3,
   "metadata": {},
   "outputs": [
    {
     "name": "stderr",
     "output_type": "stream",
     "text": [
      "/home/afrosenpai/AI_Work/School_work/AI_proj/lib/python3.10/site-packages/torchvision/models/_utils.py:208: UserWarning: The parameter 'pretrained' is deprecated since 0.13 and may be removed in the future, please use 'weights' instead.\n",
      "  warnings.warn(\n",
      "/home/afrosenpai/AI_Work/School_work/AI_proj/lib/python3.10/site-packages/torchvision/models/_utils.py:223: UserWarning: Arguments other than a weight enum or `None` for 'weights' are deprecated since 0.13 and may be removed in the future. The current behavior is equivalent to passing `weights=ResNet18_Weights.IMAGENET1K_V1`. You can also use `weights=ResNet18_Weights.DEFAULT` to get the most up-to-date weights.\n",
      "  warnings.warn(msg)\n"
     ]
    },
    {
     "name": "stdout",
     "output_type": "stream",
     "text": [
      "done encoding the AI images in 0:00:25.992641\n",
      "done in 0:00:52.606421\n"
     ]
    }
   ],
   "source": [
    "from img2vec_pytorch import Img2Vec\n",
    "from PIL import Image\n",
    "from arrow import now\n",
    "from glob import glob\n",
    "import pandas as pd\n",
    "from os.path import basename\n",
    "\n",
    "img2vec = Img2Vec(cuda=True, model='resnet-18', layer='default', layer_output_size=512)\n",
    "\n",
    "GLOB_AI = './datasets/train/FAKE/*'\n",
    "GLOB_REAL = './datasets/train/REAL/*'\n",
    "\n",
    "def img_to_array(path: str, tag: str) -> list:\n",
    "    result = []\n",
    "    for count, input_file in enumerate(glob(pathname=path)):\n",
    "        name = basename(input_file)\n",
    "        try:\n",
    "            with Image.open(fp=input_file, mode='r') as image:\n",
    "                vector = img2vec.get_vec(image, tensor=True).numpy().reshape(512,)\n",
    "                result.append(pd.Series(data=[tag, name, vector], index=['tag', 'name', 'value']))\n",
    "        except Exception as error:\n",
    "            print(\"Runtime Error : \", error)\n",
    "            # pass\n",
    "        if count >= 10000:\n",
    "            break # Stops processing images after 10 000 images processed. \n",
    "    return result\n",
    "\n",
    "time_start = now()\n",
    "ai = img_to_array(path=GLOB_AI, tag='ai')\n",
    "print('done encoding the AI images in {}'.format(now() - time_start))\n",
    "real = img_to_array(path=GLOB_REAL, tag='real')\n",
    "df = pd.DataFrame(data=ai + real)\n",
    "print('done in {}'.format(now() - time_start))"
   ]
  },
  {
   "cell_type": "code",
   "execution_count": null,
   "metadata": {},
   "outputs": [],
   "source": [
    "df.info()"
   ]
  },
  {
   "cell_type": "markdown",
   "metadata": {},
   "source": [
    "### Next task\n",
    "- Check if the pictures extensions are the same"
   ]
  }
 ],
 "metadata": {
  "kernelspec": {
   "display_name": "AI_proj",
   "language": "python",
   "name": "python3"
  },
  "language_info": {
   "codemirror_mode": {
    "name": "ipython",
    "version": 3
   },
   "file_extension": ".py",
   "mimetype": "text/x-python",
   "name": "python",
   "nbconvert_exporter": "python",
   "pygments_lexer": "ipython3",
   "version": "3.10.12"
  }
 },
 "nbformat": 4,
 "nbformat_minor": 2
}
